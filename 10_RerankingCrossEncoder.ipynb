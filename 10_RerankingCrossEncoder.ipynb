{
 "cells": [
  {
   "cell_type": "code",
   "execution_count": 1,
   "metadata": {},
   "outputs": [
    {
     "name": "stderr",
     "output_type": "stream",
     "text": [
      "libmagic is unavailable but assists in filetype detection. Please consider installing libmagic for better results.\n",
      "libmagic is unavailable but assists in filetype detection. Please consider installing libmagic for better results.\n",
      "libmagic is unavailable but assists in filetype detection. Please consider installing libmagic for better results.\n"
     ]
    }
   ],
   "source": [
    "from langchain_openai import OpenAIEmbeddings\n",
    "from langchain_chroma import Chroma\n",
    "from langchain_core.runnables import RunnablePassthrough\n",
    "from langchain_core.output_parsers import StrOutputParser\n",
    "from langchain_openai import ChatOpenAI\n",
    "from langchain_core.prompts import ChatPromptTemplate\n",
    "from langchain.schema import Document\n",
    "from langchain_community.document_loaders import DirectoryLoader\n",
    "from langchain.text_splitter import RecursiveCharacterTextSplitter\n",
    "from langchain_core.runnables import RunnableParallel\n",
    "from dotenv import load_dotenv\n",
    "import os\n",
    "\n",
    "app_dir = os.path.join(os.getcwd(), \"app\")\n",
    "load_dotenv(os.path.join(app_dir, \".env\"))\n",
    "\n",
    "loader = DirectoryLoader(\"./data\", glob=\"**/*.txt\")\n",
    "docs = loader.load()\n",
    "\n",
    "text_splitter = RecursiveCharacterTextSplitter(\n",
    "    chunk_size=120,\n",
    "    chunk_overlap=20,\n",
    "    length_function=len,\n",
    "    is_separator_regex=False,\n",
    ")\n",
    "chunks = text_splitter.split_documents(docs)\n",
    "\n",
    "embedding_function = OpenAIEmbeddings()\n",
    "model = ChatOpenAI(model=\"gpt-4o-mini\")\n",
    "\n",
    "db = Chroma.from_documents(chunks, embedding_function)\n",
    "retriever = db.as_retriever()"
   ]
  },
  {
   "cell_type": "code",
   "execution_count": 2,
   "metadata": {},
   "outputs": [],
   "source": [
    "def format_docs(docs: list[Document]):\n",
    "    return \"\\n\".join(doc.page_content for doc in docs)"
   ]
  },
  {
   "cell_type": "code",
   "execution_count": 3,
   "metadata": {},
   "outputs": [],
   "source": [
    "template = \"\"\"Answer the question based only on the following context:\n",
    "{context}\n",
    "\n",
    "Question: {question}\n",
    "\"\"\"\n",
    "prompt = ChatPromptTemplate.from_template(template)\n",
    "\n",
    "rag_chain_from_docs = (\n",
    "    RunnablePassthrough.assign(context=(lambda x: format_docs(x[\"context\"])))\n",
    "    | prompt\n",
    "    | model\n",
    "    | StrOutputParser()\n",
    ")\n",
    "\n",
    "rag_chain_with_source = RunnableParallel(\n",
    "    {\"context\": retriever, \"question\": RunnablePassthrough()}\n",
    ").assign(answer=rag_chain_from_docs)"
   ]
  },
  {
   "cell_type": "code",
   "execution_count": 4,
   "metadata": {},
   "outputs": [],
   "source": [
    "result = rag_chain_with_source.invoke(input=\"Who is the owner of the restaurant\")"
   ]
  },
  {
   "cell_type": "code",
   "execution_count": 5,
   "metadata": {},
   "outputs": [
    {
     "data": {
      "text/plain": [
       "{'context': [Document(id='9b5d6aeb-0888-43de-98b3-b9626dcd951c', metadata={'source': 'data/founder.txt'}, page_content='Creating Chef Amico’s Restaurant'),\n",
       "  Document(id='30ab0bfa-fc06-4413-9764-57f6b07bfbca', metadata={'source': 'data/restaurant.txt'}, page_content=\"into Chef Amico. Her mission was to uncover the secret behind the restaurant's growing fame. She was greeted by Amico\"),\n",
       "  Document(id='5475b864-dd1d-4908-92b0-cf7711466d8b', metadata={'source': 'data/restaurant.txt'}, page_content='One evening, as the sun cast a golden glow over the city, a renowned food critic, Elena Rossi, stepped into Chef Amico.'),\n",
       "  Document(id='d96fe626-a2d6-4ae0-a66a-e0d1e4b8bd25', metadata={'source': 'data/founder.txt'}, page_content='and relish life’s simple pleasures. His restaurant was a haven where strangers became friends over plates of arancini')],\n",
       " 'question': 'Who is the owner of the restaurant',\n",
       " 'answer': 'The owner of the restaurant is Chef Amico.'}"
      ]
     },
     "execution_count": 5,
     "metadata": {},
     "output_type": "execute_result"
    }
   ],
   "source": [
    "result"
   ]
  },
  {
   "cell_type": "markdown",
   "metadata": {},
   "source": [
    "### Why is that approach bad?\n",
    "\n",
    "You will always retrieve top-k documents and pass them to the model. \n",
    "No matter how relevant the documents are"
   ]
  },
  {
   "cell_type": "code",
   "execution_count": 6,
   "metadata": {},
   "outputs": [
    {
     "name": "stderr",
     "output_type": "stream",
     "text": [
      "/Users/rh/Desktop/Workspace/Formations/IA/udemy-advanced-langChain/.venv/lib/python3.11/site-packages/tqdm/auto.py:21: TqdmWarning: IProgress not found. Please update jupyter and ipywidgets. See https://ipywidgets.readthedocs.io/en/stable/user_install.html\n",
      "  from .autonotebook import tqdm as notebook_tqdm\n"
     ]
    }
   ],
   "source": [
    "from sentence_transformers import CrossEncoder\n",
    "\n",
    "cross_encoder = CrossEncoder(\"cross-encoder/ms-marco-MiniLM-L-6-v2\")"
   ]
  },
  {
   "cell_type": "code",
   "execution_count": 7,
   "metadata": {},
   "outputs": [],
   "source": [
    "docs = result[\"context\"]\n",
    "contents = [doc.page_content for doc in docs]"
   ]
  },
  {
   "cell_type": "code",
   "execution_count": 8,
   "metadata": {},
   "outputs": [
    {
     "data": {
      "text/plain": [
       "['Creating Chef Amico’s Restaurant',\n",
       " \"into Chef Amico. Her mission was to uncover the secret behind the restaurant's growing fame. She was greeted by Amico\",\n",
       " 'One evening, as the sun cast a golden glow over the city, a renowned food critic, Elena Rossi, stepped into Chef Amico.',\n",
       " 'and relish life’s simple pleasures. His restaurant was a haven where strangers became friends over plates of arancini']"
      ]
     },
     "execution_count": 8,
     "metadata": {},
     "output_type": "execute_result"
    }
   ],
   "source": [
    "contents"
   ]
  },
  {
   "cell_type": "code",
   "execution_count": 9,
   "metadata": {},
   "outputs": [],
   "source": [
    "pairs = []\n",
    "for text in contents:\n",
    "    pairs.append([\"Who is the owner of the restaurant\", text])"
   ]
  },
  {
   "cell_type": "code",
   "execution_count": 10,
   "metadata": {},
   "outputs": [
    {
     "data": {
      "text/plain": [
       "[['Who is the owner of the restaurant', 'Creating Chef Amico’s Restaurant'],\n",
       " ['Who is the owner of the restaurant',\n",
       "  \"into Chef Amico. Her mission was to uncover the secret behind the restaurant's growing fame. She was greeted by Amico\"],\n",
       " ['Who is the owner of the restaurant',\n",
       "  'One evening, as the sun cast a golden glow over the city, a renowned food critic, Elena Rossi, stepped into Chef Amico.'],\n",
       " ['Who is the owner of the restaurant',\n",
       "  'and relish life’s simple pleasures. His restaurant was a haven where strangers became friends over plates of arancini']]"
      ]
     },
     "execution_count": 10,
     "metadata": {},
     "output_type": "execute_result"
    }
   ],
   "source": [
    "pairs"
   ]
  },
  {
   "cell_type": "code",
   "execution_count": 11,
   "metadata": {},
   "outputs": [
    {
     "data": {
      "text/plain": [
       "array([-3.4635901, -3.4789805, -4.97861  , -5.300248 ], dtype=float32)"
      ]
     },
     "execution_count": 11,
     "metadata": {},
     "output_type": "execute_result"
    }
   ],
   "source": [
    "scores = cross_encoder.predict(pairs)\n",
    "scores"
   ]
  },
  {
   "cell_type": "code",
   "execution_count": 12,
   "metadata": {},
   "outputs": [
    {
     "data": {
      "text/plain": [
       "[(np.float32(-3.4635901),\n",
       "  Document(id='9b5d6aeb-0888-43de-98b3-b9626dcd951c', metadata={'source': 'data/founder.txt'}, page_content='Creating Chef Amico’s Restaurant')),\n",
       " (np.float32(-3.4789805),\n",
       "  Document(id='30ab0bfa-fc06-4413-9764-57f6b07bfbca', metadata={'source': 'data/restaurant.txt'}, page_content=\"into Chef Amico. Her mission was to uncover the secret behind the restaurant's growing fame. She was greeted by Amico\")),\n",
       " (np.float32(-4.97861),\n",
       "  Document(id='5475b864-dd1d-4908-92b0-cf7711466d8b', metadata={'source': 'data/restaurant.txt'}, page_content='One evening, as the sun cast a golden glow over the city, a renowned food critic, Elena Rossi, stepped into Chef Amico.')),\n",
       " (np.float32(-5.300248),\n",
       "  Document(id='d96fe626-a2d6-4ae0-a66a-e0d1e4b8bd25', metadata={'source': 'data/founder.txt'}, page_content='and relish life’s simple pleasures. His restaurant was a haven where strangers became friends over plates of arancini'))]"
      ]
     },
     "execution_count": 12,
     "metadata": {},
     "output_type": "execute_result"
    }
   ],
   "source": [
    "scored_docs = zip(scores, docs)\n",
    "sorted_docs = sorted(scored_docs, reverse=True)\n",
    "sorted_docs"
   ]
  },
  {
   "cell_type": "code",
   "execution_count": 13,
   "metadata": {},
   "outputs": [
    {
     "data": {
      "text/plain": [
       "[Document(id='9b5d6aeb-0888-43de-98b3-b9626dcd951c', metadata={'source': 'data/founder.txt'}, page_content='Creating Chef Amico’s Restaurant'),\n",
       " Document(id='30ab0bfa-fc06-4413-9764-57f6b07bfbca', metadata={'source': 'data/restaurant.txt'}, page_content=\"into Chef Amico. Her mission was to uncover the secret behind the restaurant's growing fame. She was greeted by Amico\")]"
      ]
     },
     "execution_count": 13,
     "metadata": {},
     "output_type": "execute_result"
    }
   ],
   "source": [
    "reranked_docs = [doc for _, doc in sorted_docs][0:2]\n",
    "reranked_docs"
   ]
  },
  {
   "cell_type": "markdown",
   "metadata": {},
   "source": [
    "### Integrate that in LCEL"
   ]
  },
  {
   "cell_type": "code",
   "execution_count": 14,
   "metadata": {},
   "outputs": [],
   "source": [
    "# retriever which retrieves more than 4 documents\n",
    "retriever = db.as_retriever(search_kwargs={\"k\": 10})"
   ]
  },
  {
   "cell_type": "code",
   "execution_count": 15,
   "metadata": {},
   "outputs": [],
   "source": [
    "from sentence_transformers import CrossEncoder\n",
    "from langchain_core.runnables import RunnableLambda\n",
    "\n",
    "\n",
    "def rerank_documents(input_data):\n",
    "    query = input_data[\"question\"]\n",
    "    docs = input_data[\"context\"]\n",
    "\n",
    "    cross_encoder = CrossEncoder(\"cross-encoder/ms-marco-MiniLM-L-6-v2\")\n",
    "    contents = [doc.page_content for doc in docs]\n",
    "\n",
    "    pairs = [(query, text) for text in contents]\n",
    "    scores = cross_encoder.predict(pairs)\n",
    "\n",
    "    scored_docs = zip(scores, docs)\n",
    "    sorted_docs = sorted(scored_docs, key=lambda x: x[0], reverse=True)\n",
    "    return [doc for _, doc in sorted_docs]\n",
    "\n",
    "\n",
    "template = \"\"\"Answer the question based only on the following context:\n",
    "{context}\n",
    "\n",
    "Question: {question}\n",
    "\"\"\"\n",
    "prompt = ChatPromptTemplate.from_template(template)\n",
    "model = ChatOpenAI(model=\"gpt-4o-mini\")\n",
    "\n",
    "rag_chain_from_docs = (\n",
    "    RunnablePassthrough.assign(context=RunnableLambda(rerank_documents))\n",
    "    | prompt\n",
    "    | model\n",
    "    | StrOutputParser()\n",
    ")\n",
    "\n",
    "rag_chain_with_source = RunnableParallel(\n",
    "    {\"context\": retriever, \"question\": RunnablePassthrough()}\n",
    ").assign(answer=rag_chain_from_docs)"
   ]
  },
  {
   "cell_type": "code",
   "execution_count": 16,
   "metadata": {},
   "outputs": [
    {
     "data": {
      "text/plain": [
       "{'context': [Document(id='9b5d6aeb-0888-43de-98b3-b9626dcd951c', metadata={'source': 'data/founder.txt'}, page_content='Creating Chef Amico’s Restaurant'),\n",
       "  Document(id='30ab0bfa-fc06-4413-9764-57f6b07bfbca', metadata={'source': 'data/restaurant.txt'}, page_content=\"into Chef Amico. Her mission was to uncover the secret behind the restaurant's growing fame. She was greeted by Amico\"),\n",
       "  Document(id='5475b864-dd1d-4908-92b0-cf7711466d8b', metadata={'source': 'data/restaurant.txt'}, page_content='One evening, as the sun cast a golden glow over the city, a renowned food critic, Elena Rossi, stepped into Chef Amico.'),\n",
       "  Document(id='d96fe626-a2d6-4ae0-a66a-e0d1e4b8bd25', metadata={'source': 'data/founder.txt'}, page_content='and relish life’s simple pleasures. His restaurant was a haven where strangers became friends over plates of arancini'),\n",
       "  Document(id='af050a58-5d59-4432-8229-f9a949f16438', metadata={'source': 'data/founder.txt'}, page_content='the restaurant quickly gained fame for its authentic flavors and Amico’s innovative twists on traditional recipes.'),\n",
       "  Document(id='04555993-e93d-4ef3-a339-37caa03576dc', metadata={'source': 'data/founder.txt'}, page_content='young chefs, shares his knowledge at culinary workshops, and supports local farmers and producers.'),\n",
       "  Document(id='d24e4c49-0451-40d4-9b6a-441d33db58db', metadata={'source': 'data/founder.txt'}, page_content='The Journey to Chef Amico'),\n",
       "  Document(id='88cc7e7c-b7c8-4a56-ac7a-2df2ee51ccfa', metadata={'source': 'data/founder.txt'}, page_content='Philosophy of Hospitality'),\n",
       "  Document(id='4a3569d9-9dcd-4483-ba39-693d56b9a95b', metadata={'source': 'data/founder.txt'}, page_content='culmination of his travels and a tribute to his Sicilian roots. Nestled in a quaint corner of the city, the restaurant'),\n",
       "  Document(id='f95ee13b-10a2-4ea8-99cf-16afe223027c', metadata={'source': 'data/founder.txt'}, page_content='is a tribute to the power of food to connect us, to share our stories, and to celebrate the richness of life. Chef')],\n",
       " 'question': 'Who is the owner of the restaurant',\n",
       " 'answer': 'The owner of the restaurant is Chef Amico.'}"
      ]
     },
     "execution_count": 16,
     "metadata": {},
     "output_type": "execute_result"
    }
   ],
   "source": [
    "result = rag_chain_with_source.invoke(input=\"Who is the owner of the restaurant\")\n",
    "result"
   ]
  },
  {
   "cell_type": "markdown",
   "metadata": {},
   "source": [
    "### LLM-based Document Compressor"
   ]
  },
  {
   "cell_type": "code",
   "execution_count": 17,
   "metadata": {},
   "outputs": [],
   "source": [
    "from langchain.prompts import PromptTemplate\n",
    "\n",
    "DOCUMENT_EVALUATOR_PROMPT = PromptTemplate(\n",
    "    input_variables=[\"document\", \"question\"],\n",
    "    template=\"\"\"You are an AI language model assistant. Your task is to evaluate the provided document to determine if it is suited to answer the given user question. Assess the document for its relevance to the question, the completeness of information, and the accuracy of the content.\n",
    "\n",
    "    Original question: {question}\n",
    "    Document for Evaluation: {document}\n",
    "    Evaluation Result: <<'True' if the document is suited to answer the question, 'False' if it is not>>\n",
    "\n",
    "    Note: Conclude with a 'True' or 'False' based on your analysis of the document's relevance, completeness, and accuracy in relation to the question.\"\"\",\n",
    ")"
   ]
  },
  {
   "cell_type": "code",
   "execution_count": 18,
   "metadata": {},
   "outputs": [],
   "source": [
    "from langchain.schema import Document\n",
    "\n",
    "documents = [\n",
    "    Document(page_content=\"The owner is Guivanni\"),\n",
    "    Document(page_content=\"Pizza Salami costs 10$\"),\n",
    "    Document(page_content=\"We close the restaurant at 10p.m each day\"),\n",
    "]\n",
    "\n",
    "model = ChatOpenAI(model=\"gpt-4o-mini\")\n",
    "compression_chain = DOCUMENT_EVALUATOR_PROMPT | model | StrOutputParser()"
   ]
  },
  {
   "cell_type": "code",
   "execution_count": 21,
   "metadata": {},
   "outputs": [
    {
     "data": {
      "text/plain": [
       "'False'"
      ]
     },
     "execution_count": 21,
     "metadata": {},
     "output_type": "execute_result"
    }
   ],
   "source": [
    "compression_chain.invoke(\n",
    "    {\"question\": \"Who is the owner of the restaurant\", \"document\": documents[1]}\n",
    ")"
   ]
  },
  {
   "cell_type": "markdown",
   "metadata": {},
   "source": [
    "### Now lets make that dynamic"
   ]
  },
  {
   "cell_type": "code",
   "execution_count": 22,
   "metadata": {},
   "outputs": [],
   "source": [
    "def evaluate_documents(input: dict):\n",
    "    documents = input.get(\"documents\", [])\n",
    "    question = input.get(\"question\")\n",
    "\n",
    "    DOCUMENT_EVALUATOR_PROMPT = PromptTemplate(\n",
    "        input_variables=[\"document\", \"question\"],\n",
    "        template=\"\"\"You are an AI language model assistant. Your task is to evaluate the provided document to determine if it is suited to answer the given user question. Assess the document for its relevance to the question, the completeness of information, and the accuracy of the content.\n",
    "\n",
    "        Original question: {question}\n",
    "        Document for Evaluation: {document}\n",
    "        Evaluation Result: <<'True' if the document is suited to answer the question, 'False' if it is not>>\n",
    "\n",
    "        Note: Conclude with a 'True' or 'False' based on your analysis of the document's relevance, completeness, and accuracy in relation to the question.\"\"\",\n",
    "    )\n",
    "    model = ChatOpenAI(model=\"gpt-4o-mini\")\n",
    "    compression_chain = DOCUMENT_EVALUATOR_PROMPT | model | StrOutputParser()\n",
    "\n",
    "    results = []\n",
    "    for document in documents:\n",
    "        evaluation_result = compression_chain.invoke(\n",
    "            {\"document\": document.page_content, \"question\": question}\n",
    "        )\n",
    "        result = evaluation_result == \"True\"\n",
    "        print(result)\n",
    "        results.append(result)\n",
    "\n",
    "    filtered_documents = [doc for doc, res in zip(documents, results) if res]\n",
    "\n",
    "    return filtered_documents"
   ]
  },
  {
   "cell_type": "code",
   "execution_count": 23,
   "metadata": {},
   "outputs": [
    {
     "name": "stdout",
     "output_type": "stream",
     "text": [
      "True\n",
      "False\n",
      "False\n",
      "[Document(metadata={}, page_content='The owner is Guivanni')]\n"
     ]
    }
   ],
   "source": [
    "_input = {\n",
    "    \"documents\": [\n",
    "        Document(page_content=\"The owner is Guivanni\"),\n",
    "        Document(page_content=\"Pizza Salami costs 10$\"),\n",
    "        Document(page_content=\"We close the restaurant at 10p.m each day\"),\n",
    "    ],\n",
    "    \"question\": \"Who is the owner of the restaurant?\",\n",
    "}\n",
    "\n",
    "results = evaluate_documents(_input)\n",
    "print(results)"
   ]
  }
 ],
 "metadata": {
  "kernelspec": {
   "display_name": ".venv",
   "language": "python",
   "name": "python3"
  },
  "language_info": {
   "codemirror_mode": {
    "name": "ipython",
    "version": 3
   },
   "file_extension": ".py",
   "mimetype": "text/x-python",
   "name": "python",
   "nbconvert_exporter": "python",
   "pygments_lexer": "ipython3",
   "version": "3.11.9"
  }
 },
 "nbformat": 4,
 "nbformat_minor": 2
}
