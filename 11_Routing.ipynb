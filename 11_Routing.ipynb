{
 "cells": [
  {
   "cell_type": "code",
   "execution_count": 1,
   "metadata": {},
   "outputs": [],
   "source": [
    "from langchain.utils.math import cosine_similarity\n",
    "from langchain_core.output_parsers import StrOutputParser\n",
    "from langchain_core.prompts import PromptTemplate\n",
    "from langchain_core.runnables import RunnableLambda, RunnablePassthrough\n",
    "from langchain_openai import ChatOpenAI, OpenAIEmbeddings\n",
    "from dotenv import load_dotenv\n",
    "import os\n",
    "\n",
    "app_dir = os.path.join(os.getcwd(), \"app\")\n",
    "load_dotenv(os.path.join(app_dir, \".env\"))\n",
    "\n",
    "car_template = \"\"\"You are an expert in automobiles. You have extensive knowledge about car mechanics, \\\n",
    "models, and automotive technology. You provide clear and helpful answers about cars.\n",
    "\n",
    "Here is a question:\n",
    "{query}\"\"\"\n",
    "\n",
    "restaurant_template = \"\"\"You are a knowledgeable food critic and restaurant reviewer. You have a deep understanding of \\\n",
    "different cuisines, dining experiences, and what makes a great restaurant. You answer questions about restaurants insightfully.\n",
    "\n",
    "Here is a question:\n",
    "{query}\"\"\"\n",
    "\n",
    "technology_template = \"\"\"You are a tech expert with in-depth knowledge of the latest gadgets, software, \\\n",
    "and technological trends. You provide insightful and detailed answers about technology.\n",
    "\n",
    "Here is a question:\n",
    "{query}\"\"\""
   ]
  },
  {
   "cell_type": "code",
   "execution_count": 2,
   "metadata": {},
   "outputs": [],
   "source": [
    "car_questions = [\n",
    "    \"What is the difference between a sedan and an SUV?\",\n",
    "    \"How does a hybrid car save fuel?\",\n",
    "    \"What should I look for when buying a used car?\",\n",
    "]\n",
    "\n",
    "restaurant_questions = [\n",
    "    \"What makes a five-star restaurant exceptional?\",\n",
    "    \"How do I choose a good wine pairing for my meal?\",\n",
    "    \"What are the key elements of French cuisine?\",\n",
    "]\n",
    "\n",
    "technology_questions = [\n",
    "    \"What are the latest advancements in AI?\",\n",
    "    \"How do I secure my home network against cyber threats?\",\n",
    "    \"What should I consider when buying a new smartphone?\",\n",
    "]"
   ]
  },
  {
   "cell_type": "code",
   "execution_count": 3,
   "metadata": {},
   "outputs": [],
   "source": [
    "embeddings = OpenAIEmbeddings()\n",
    "\n",
    "car_question_embeddings = embeddings.embed_documents(car_questions)\n",
    "restaurant_question_embeddings = embeddings.embed_documents(restaurant_questions)\n",
    "technology_question_embeddings = embeddings.embed_documents(technology_questions)"
   ]
  },
  {
   "cell_type": "code",
   "execution_count": 4,
   "metadata": {},
   "outputs": [
    {
     "name": "stdout",
     "output_type": "stream",
     "text": [
      "Using CAR\n"
     ]
    }
   ],
   "source": [
    "def prompt_router(input):\n",
    "    query_embedding = embeddings.embed_query(input[\"query\"])\n",
    "    car_similarity = cosine_similarity([query_embedding], car_question_embeddings)[0]\n",
    "    restaurant_similarity = cosine_similarity(\n",
    "        [query_embedding], restaurant_question_embeddings\n",
    "    )[0]\n",
    "    technology_similarity = cosine_similarity(\n",
    "        [query_embedding], technology_question_embeddings\n",
    "    )[0]\n",
    "\n",
    "    max_similarity = max(\n",
    "        max(car_similarity), max(restaurant_similarity), max(technology_similarity)\n",
    "    )\n",
    "\n",
    "    if max_similarity == max(car_similarity):\n",
    "        print(\"Using CAR\")\n",
    "        return PromptTemplate.from_template(car_template)\n",
    "    elif max_similarity == max(restaurant_similarity):\n",
    "        print(\"Using RESTAURANT\")\n",
    "        return PromptTemplate.from_template(restaurant_template)\n",
    "    else:\n",
    "        print(\"Using TECHNOLOGY\")\n",
    "        return PromptTemplate.from_template(technology_template)\n",
    "\n",
    "\n",
    "input_query = {\"query\": \"What's the best way to improve my cars's battery life?\"}\n",
    "prompt = prompt_router(input_query)"
   ]
  },
  {
   "cell_type": "code",
   "execution_count": 5,
   "metadata": {},
   "outputs": [],
   "source": [
    "chain = (\n",
    "    {\"query\": RunnablePassthrough()}\n",
    "    | RunnableLambda(prompt_router)\n",
    "    | ChatOpenAI(model=\"gpt-4o-mini\")\n",
    "    | StrOutputParser()\n",
    ")"
   ]
  },
  {
   "cell_type": "code",
   "execution_count": 6,
   "metadata": {},
   "outputs": [
    {
     "name": "stdout",
     "output_type": "stream",
     "text": [
      "Using RESTAURANT\n"
     ]
    },
    {
     "data": {
      "text/plain": [
       "\"Identifying a good vintage wine at a restaurant involves a combination of knowledge, intuition, and a bit of research. Here are some key factors to consider:\\n\\n1. **Know the Basics of Vintage**: Understanding that a wine’s vintage refers to the year in which the grapes were harvested is crucial. Some regions and varietals have exceptional years; for example, Bordeaux from 2010 or Napa Valley Cabernet from 2016. Familiarize yourself with notable vintages for the types of wine you enjoy.\\n\\n2. **Research the Producer**: A wine's producer can be just as important as its vintage. Some wineries consistently produce high-quality wines, while others may not be as reliable. Look for producers with a strong reputation in their respective regions.\\n\\n3. **Check the Wine List**: A good restaurant will have a carefully curated wine list. Look for keywords like “reserve,” “grand cru,” or “single vineyard,” which can indicate higher quality. Also, a well-organized wine list — by varietal or region — often signifies a restaurant that values wine.\\n\\n4. **Ask the Sommelier**: Don’t hesitate to engage with the sommelier. A knowledgeable sommelier can guide you to selections that have received critical acclaim or those that may be underrated. They can also explain the characteristics of specific vintages and why they might pair well with your meal.\\n\\n5. **Look for Storage Conditions**: A good restaurant should store its wine properly, typically in a climate-controlled cellar. If you can see the wine selection, check for dust on bottles and overall cleanliness; these can be signs of care and attention to detail.\\n\\n6. **Consider the Region and Variety**: Certain regions and varietals might be more consistent in producing quality wines. For example, Burgundy is renowned for its Pinot Noir and Chardonnay. If you’re trying something new, consider vintage recommendations for those regions.\\n\\n7. **Taste Before You Buy**: If the restaurant offers tastings or allows you to sample a wine before committing to a full bottle, take advantage of this. Your palate is the best judge of whether a wine aligns with your preferences.\\n\\n8. **Watch for Reviews and Ratings**: If you have time, look up the particular wine on platforms like Wine Spectator or Wine Enthusiast beforehand, or consult apps like Vivino once you’ve received the wine. Ratings can offer a quick gauge of quality, though personal taste will ultimately prevail.\\n\\n9. **Consider Food Pairings**: A good vintage wine should complement the food you are ordering. Ask the sommelier for pairing suggestions based on your meal. The right wine can elevate both the dining experience and the wine itself.\\n\\n10. **Trust Your Instincts**: Finally, choose a wine that you are excited about. A good vintage is also one that pleases your palate. Trust your instincts and enjoy the exploration of flavors that a well-selected wine can bring to your meal.\\n\\nBy using these strategies, you’ll increase your chances of identifying a vintage wine that enhances your restaurant experience. Cheers!\""
      ]
     },
     "execution_count": 6,
     "metadata": {},
     "output_type": "execute_result"
    }
   ],
   "source": [
    "chain.invoke(\"How do I identify a good vintage wine at a restaurant?\")"
   ]
  },
  {
   "cell_type": "markdown",
   "metadata": {},
   "source": [
    "Classification"
   ]
  },
  {
   "cell_type": "code",
   "execution_count": 7,
   "metadata": {},
   "outputs": [],
   "source": [
    "from langchain_core.output_parsers import StrOutputParser\n",
    "from langchain_core.prompts import PromptTemplate\n",
    "from langchain_openai import ChatOpenAI\n",
    "\n",
    "classification_template = PromptTemplate.from_template(\n",
    "    \"\"\"You are good at classifying a question.\n",
    "    Given the user question below, classify it as either being about `Car`, `Restaurant`, or `Technology`.\n",
    "\n",
    "    <If the question is about car mechanics, models, or automotive technology, classify it as 'Car'>\n",
    "    <If the question is about cuisines, dining experiences, or restaurant services, classify it as 'Restaurant'>\n",
    "    <If the question is about gadgets, software, or technological trends, classify it as 'Technology'>\n",
    "\n",
    "    <question>\n",
    "    {question}\n",
    "    </question>\n",
    "\n",
    "    Classification:\"\"\"\n",
    ")\n",
    "\n",
    "classification_chain = classification_template | ChatOpenAI(model=\"gpt-4o-mini\") | StrOutputParser()"
   ]
  },
  {
   "cell_type": "code",
   "execution_count": 9,
   "metadata": {},
   "outputs": [
    {
     "name": "stdout",
     "output_type": "stream",
     "text": [
      "Using CAR\n"
     ]
    }
   ],
   "source": [
    "def prompt_router(input):\n",
    "    classification = classification_chain.invoke({\"question\": input[\"query\"]})\n",
    "\n",
    "    if classification == \"Car\":\n",
    "        print(\"Using CAR\")\n",
    "        return PromptTemplate.from_template(car_template)\n",
    "    elif classification == \"Restaurant\":\n",
    "        print(\"Using RESTAURANT\")\n",
    "        return PromptTemplate.from_template(restaurant_template)\n",
    "    elif classification == \"Technology\":\n",
    "        print(\"Using TECHNOLOGY\")\n",
    "        return PromptTemplate.from_template(technology_template)\n",
    "    else:\n",
    "        print(\"Unexpected classification:\", classification)\n",
    "        return None\n",
    "\n",
    "\n",
    "input_query = {\"query\": \"What are the latest trends in electric cars?\"}\n",
    "prompt = prompt_router(input_query)"
   ]
  },
  {
   "cell_type": "code",
   "execution_count": 10,
   "metadata": {},
   "outputs": [],
   "source": [
    "chain = (\n",
    "    {\"query\": RunnablePassthrough()}\n",
    "    | RunnableLambda(prompt_router)\n",
    "    | ChatOpenAI(model=\"gpt-4o-mini\")\n",
    "    | StrOutputParser()\n",
    ")"
   ]
  },
  {
   "cell_type": "code",
   "execution_count": 11,
   "metadata": {},
   "outputs": [
    {
     "name": "stdout",
     "output_type": "stream",
     "text": [
      "Using RESTAURANT\n"
     ]
    },
    {
     "data": {
      "text/plain": [
       "\"Identifying a good vintage wine at a restaurant involves a combination of knowledge, research, and sensory evaluation. Here are some key points to help you make an informed choice:\\n\\n1. **Understand the Basics of Vintage**: A vintage wine indicates the year the grapes were harvested. Not all vintages are created equal; factors such as weather conditions greatly influence the quality of the grapes. Research which vintages are considered excellent for the particular wine region or varietal you are interested in.\\n\\n2. **Know the Regions and Producers**: Familiarize yourself with reputable wine regions (e.g., Bordeaux, Napa Valley, Burgundy) and renowned producers. Wines from celebrated vintages and producers are more likely to be of high quality. \\n\\n3. **Check the Wine List**: A well-curated wine list can often signal the quality of a restaurant. Look for lists that provide information about the vintages, as well as region and varietal. This can indicate the staff's level of expertise and care in their selections.\\n\\n4. **Ask for Recommendations**: Engage with the sommelier or server about their wine offerings. A knowledgeable staff member can provide insight into which vintages are currently available, which are drinking well, and what pairs nicely with your meal.\\n\\n5. **Assess Storage Conditions**: Ensure that the restaurant has a proper wine storage practice. Wines should be stored at an appropriate temperature, in a dark space, and at the right humidity levels to ensure they age well. If the wine list offers older vintages, inquire about their storage methods.\\n\\n6. **Look for Ratings and Reviews**: If the wine list provides ratings from critics or wine publications, this can help guide you toward good choices. Familiar brands that consistently receive high marks can be a safer bet.\\n\\n7. **Taste Before You Commit**: If possible, ask for a taste of the wine before ordering a full glass or bottle, particularly if you’re unsure about its quality or suitability for your palate. \\n\\n8. **Consider the Food Pairing**: Finally, think about how the wine will complement your meal. A great vintage can be sublime when paired perfectly with the right dish, enhancing both the food and the wine experience.\\n\\nBy combining these approaches, you can confidently identify and select a good vintage wine that enhances your overall dining experience.\""
      ]
     },
     "execution_count": 11,
     "metadata": {},
     "output_type": "execute_result"
    }
   ],
   "source": [
    "chain.invoke(\"How do I identify a good vintage wine at a restaurant?\")"
   ]
  }
 ],
 "metadata": {
  "kernelspec": {
   "display_name": ".venv",
   "language": "python",
   "name": "python3"
  },
  "language_info": {
   "codemirror_mode": {
    "name": "ipython",
    "version": 3
   },
   "file_extension": ".py",
   "mimetype": "text/x-python",
   "name": "python",
   "nbconvert_exporter": "python",
   "pygments_lexer": "ipython3",
   "version": "3.11.9"
  }
 },
 "nbformat": 4,
 "nbformat_minor": 2
}
