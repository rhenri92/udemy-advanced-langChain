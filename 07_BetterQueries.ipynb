{
 "cells": [
  {
   "cell_type": "code",
   "execution_count": 1,
   "metadata": {},
   "outputs": [
    {
     "name": "stderr",
     "output_type": "stream",
     "text": [
      "libmagic is unavailable but assists in filetype detection. Please consider installing libmagic for better results.\n",
      "libmagic is unavailable but assists in filetype detection. Please consider installing libmagic for better results.\n",
      "libmagic is unavailable but assists in filetype detection. Please consider installing libmagic for better results.\n"
     ]
    }
   ],
   "source": [
    "from langchain_openai import OpenAIEmbeddings\n",
    "from langchain_community.vectorstores.chroma import Chroma\n",
    "from langchain_core.output_parsers import StrOutputParser\n",
    "from langchain_openai import ChatOpenAI\n",
    "from langchain_community.document_loaders.directory import DirectoryLoader\n",
    "from langchain.text_splitter import RecursiveCharacterTextSplitter\n",
    "from dotenv import load_dotenv\n",
    "import os\n",
    "\n",
    "app_dir = os.path.join(os.getcwd(), \"app\")\n",
    "load_dotenv(os.path.join(app_dir, \".env\"))\n",
    "\n",
    "loader = DirectoryLoader(\"./data\", glob=\"**/*.txt\")\n",
    "docs = loader.load()\n",
    "\n",
    "text_splitter = RecursiveCharacterTextSplitter(\n",
    "    chunk_size=120,\n",
    "    chunk_overlap=20,\n",
    "    length_function=len,\n",
    "    is_separator_regex=False,\n",
    ")\n",
    "chunks = text_splitter.split_documents(docs)\n",
    "\n",
    "embedding_function = OpenAIEmbeddings()\n",
    "model = ChatOpenAI(model=\"gpt-4o-mini\")\n",
    "\n",
    "db = Chroma.from_documents(chunks, embedding_function)\n",
    "retriever = db.as_retriever()"
   ]
  },
  {
   "cell_type": "code",
   "execution_count": 2,
   "metadata": {},
   "outputs": [],
   "source": [
    "from langchain.prompts import PromptTemplate\n",
    "from langchain_core.runnables import RunnableLambda\n",
    "import re\n",
    "\n",
    "query = \"Who owns the restaurant?\"\n",
    "\n",
    "\n",
    "QUERY_PROMPT = PromptTemplate(\n",
    "    input_variables=[\"question\"],\n",
    "    template=\"\"\"You are an AI language model assistant. Your task is to generate five\n",
    "    different versions of the given user question to retrieve relevant documents from a vector\n",
    "    database. By generating multiple perspectives on the user question, your goal is to help\n",
    "    the user overcome some of the limitations of the distance-based similarity search.\n",
    "    Provide these alternative question like this:\n",
    "    <<question1>>\n",
    "    <<question2>>\n",
    "    Only provide the query, no numbering.\n",
    "    Original question: {question}\"\"\",\n",
    ")\n",
    "\n",
    "\n",
    "def split_and_clean_text(input_text):\n",
    "    return [item for item in re.split(r\"<<|>>\", input_text) if item.strip()]"
   ]
  },
  {
   "cell_type": "code",
   "execution_count": 3,
   "metadata": {},
   "outputs": [],
   "source": [
    "model = ChatOpenAI(model=\"gpt-4o-mini\")\n",
    "multiquery_chain = (\n",
    "    QUERY_PROMPT | model | StrOutputParser() | RunnableLambda(split_and_clean_text)\n",
    ")"
   ]
  },
  {
   "cell_type": "code",
   "execution_count": 4,
   "metadata": {},
   "outputs": [],
   "source": [
    "list_of_questions = multiquery_chain.invoke(query)"
   ]
  },
  {
   "cell_type": "code",
   "execution_count": 5,
   "metadata": {},
   "outputs": [
    {
     "data": {
      "text/plain": [
       "['What is the ownership information for the restaurant?',\n",
       " 'Can you tell me who the proprietor of the restaurant is?',\n",
       " 'Who is the owner of the restaurant establishment?',\n",
       " 'Who holds the ownership rights for the restaurant?',\n",
       " \"What details can you provide about the restaurant's ownership?\"]"
      ]
     },
     "execution_count": 5,
     "metadata": {},
     "output_type": "execute_result"
    }
   ],
   "source": [
    "list_of_questions"
   ]
  },
  {
   "cell_type": "code",
   "execution_count": 6,
   "metadata": {},
   "outputs": [],
   "source": [
    "docs = [retriever.invoke(q) for q in list_of_questions]"
   ]
  },
  {
   "cell_type": "code",
   "execution_count": 7,
   "metadata": {},
   "outputs": [
    {
     "data": {
      "text/plain": [
       "[[Document(metadata={'source': 'data/founder.txt'}, page_content='Creating Chef Amico’s Restaurant'),\n",
       "  Document(metadata={'source': 'data/restaurant.txt'}, page_content='One evening, as the sun cast a golden glow over the city, a renowned food critic, Elena Rossi, stepped into Chef Amico.'),\n",
       "  Document(metadata={'source': 'data/founder.txt'}, page_content='Philosophy of Hospitality'),\n",
       "  Document(metadata={'source': 'data/founder.txt'}, page_content='the restaurant quickly gained fame for its authentic flavors and Amico’s innovative twists on traditional recipes.')],\n",
       " [Document(metadata={'source': 'data/founder.txt'}, page_content='Creating Chef Amico’s Restaurant'),\n",
       "  Document(metadata={'source': 'data/restaurant.txt'}, page_content='One evening, as the sun cast a golden glow over the city, a renowned food critic, Elena Rossi, stepped into Chef Amico.'),\n",
       "  Document(metadata={'source': 'data/restaurant.txt'}, page_content=\"into Chef Amico. Her mission was to uncover the secret behind the restaurant's growing fame. She was greeted by Amico\"),\n",
       "  Document(metadata={'source': 'data/founder.txt'}, page_content='and relish life’s simple pleasures. His restaurant was a haven where strangers became friends over plates of arancini')],\n",
       " [Document(metadata={'source': 'data/founder.txt'}, page_content='Creating Chef Amico’s Restaurant'),\n",
       "  Document(metadata={'source': 'data/restaurant.txt'}, page_content='One evening, as the sun cast a golden glow over the city, a renowned food critic, Elena Rossi, stepped into Chef Amico.'),\n",
       "  Document(metadata={'source': 'data/restaurant.txt'}, page_content=\"into Chef Amico. Her mission was to uncover the secret behind the restaurant's growing fame. She was greeted by Amico\"),\n",
       "  Document(metadata={'source': 'data/founder.txt'}, page_content='Philosophy of Hospitality')],\n",
       " [Document(metadata={'source': 'data/founder.txt'}, page_content='Creating Chef Amico’s Restaurant'),\n",
       "  Document(metadata={'source': 'data/founder.txt'}, page_content='Philosophy of Hospitality'),\n",
       "  Document(metadata={'source': 'data/restaurant.txt'}, page_content='One evening, as the sun cast a golden glow over the city, a renowned food critic, Elena Rossi, stepped into Chef Amico.'),\n",
       "  Document(metadata={'source': 'data/founder.txt'}, page_content='the restaurant quickly gained fame for its authentic flavors and Amico’s innovative twists on traditional recipes.')],\n",
       " [Document(metadata={'source': 'data/founder.txt'}, page_content='Creating Chef Amico’s Restaurant'),\n",
       "  Document(metadata={'source': 'data/restaurant.txt'}, page_content='One evening, as the sun cast a golden glow over the city, a renowned food critic, Elena Rossi, stepped into Chef Amico.'),\n",
       "  Document(metadata={'source': 'data/founder.txt'}, page_content='the restaurant quickly gained fame for its authentic flavors and Amico’s innovative twists on traditional recipes.'),\n",
       "  Document(metadata={'source': 'data/founder.txt'}, page_content='young chefs, shares his knowledge at culinary workshops, and supports local farmers and producers.')]]"
      ]
     },
     "execution_count": 7,
     "metadata": {},
     "output_type": "execute_result"
    }
   ],
   "source": [
    "docs"
   ]
  },
  {
   "cell_type": "code",
   "execution_count": 8,
   "metadata": {},
   "outputs": [],
   "source": [
    "def flatten_and_unique_documents(documents):\n",
    "    flattened_docs = [doc for sublist in documents for doc in sublist]\n",
    "\n",
    "    unique_docs = []\n",
    "    unique_contents = set()\n",
    "    for doc in flattened_docs:\n",
    "        if doc.page_content not in unique_contents:\n",
    "            unique_docs.append(doc)\n",
    "            unique_contents.add(doc.page_content)\n",
    "\n",
    "    return unique_docs"
   ]
  },
  {
   "cell_type": "code",
   "execution_count": 9,
   "metadata": {},
   "outputs": [
    {
     "data": {
      "text/plain": [
       "[Document(metadata={'source': 'data/founder.txt'}, page_content='Creating Chef Amico’s Restaurant'),\n",
       " Document(metadata={'source': 'data/restaurant.txt'}, page_content='One evening, as the sun cast a golden glow over the city, a renowned food critic, Elena Rossi, stepped into Chef Amico.'),\n",
       " Document(metadata={'source': 'data/founder.txt'}, page_content='Philosophy of Hospitality'),\n",
       " Document(metadata={'source': 'data/founder.txt'}, page_content='the restaurant quickly gained fame for its authentic flavors and Amico’s innovative twists on traditional recipes.'),\n",
       " Document(metadata={'source': 'data/restaurant.txt'}, page_content=\"into Chef Amico. Her mission was to uncover the secret behind the restaurant's growing fame. She was greeted by Amico\"),\n",
       " Document(metadata={'source': 'data/founder.txt'}, page_content='and relish life’s simple pleasures. His restaurant was a haven where strangers became friends over plates of arancini'),\n",
       " Document(metadata={'source': 'data/founder.txt'}, page_content='young chefs, shares his knowledge at culinary workshops, and supports local farmers and producers.')]"
      ]
     },
     "execution_count": 9,
     "metadata": {},
     "output_type": "execute_result"
    }
   ],
   "source": [
    "flatten_and_unique_documents(documents=docs)"
   ]
  },
  {
   "cell_type": "code",
   "execution_count": 10,
   "metadata": {},
   "outputs": [],
   "source": [
    "HYDE_PROMPT = PromptTemplate(\n",
    "    input_variables=[\"question\"],\n",
    "    template=\"\"\"You are an AI language model assistant. Your task is to generate five hypothetical answers to the user's query. These answers should offer diverse perspectives or interpretations, aiding in a comprehensive understanding of the query. Present the hypothetical answers as follows:\n",
    "\n",
    "    <<Answer considering a specific perspective>>\n",
    "    <<Answer from a different angle>>\n",
    "    <<Answer exploring an alternative possibility>>\n",
    "    <<Answer providing a contrasting viewpoint>>\n",
    "    <<Answer that includes a unique insight>>\n",
    "\n",
    "    Note: Present only the hypothetical answers, without numbering (or \"-\", \"1.\", \"*\") and so on, to provide a range of potential interpretations or solutions related to the query.\n",
    "    Original question: {question}\"\"\",\n",
    ")"
   ]
  },
  {
   "cell_type": "code",
   "execution_count": 11,
   "metadata": {},
   "outputs": [],
   "source": [
    "hyde_chain = (\n",
    "    HYDE_PROMPT | model | StrOutputParser() | RunnableLambda(split_and_clean_text)\n",
    ")"
   ]
  },
  {
   "cell_type": "code",
   "execution_count": 12,
   "metadata": {},
   "outputs": [
    {
     "data": {
      "text/plain": [
       "['The owner of the restaurant is likely an individual entrepreneur who took a personal interest in the culinary arts and decided to bring their vision to life, often investing their own savings to create a unique dining experience in the community.',\n",
       " 'The restaurant could be owned by a family or a partnership, where multiple members contribute their skills and resources to manage and operate the business, fostering a sense of tradition and shared responsibility.',\n",
       " 'An alternative possibility is that the restaurant is part of a larger franchise or chain, in which case the owner may be a corporate entity that oversees multiple locations, prioritizing brand consistency and operational efficiency over local flavor.',\n",
       " 'From a contrasting viewpoint, the restaurant might be cooperative-owned, where the staff and patrons have a stake in the establishment, promoting a collaborative atmosphere and shared decision-making in its operations and community engagement.',\n",
       " 'A unique insight might suggest that the ownership of the restaurant could be shared, where one individual has a financial stake while another holds operational control, highlighting the complexity of modern business structures where roles and ownership can become decentralized.']"
      ]
     },
     "execution_count": 12,
     "metadata": {},
     "output_type": "execute_result"
    }
   ],
   "source": [
    "list_of_questions = hyde_chain.invoke(\"Who is the owner of the restaurant\")\n",
    "list_of_questions"
   ]
  },
  {
   "cell_type": "code",
   "execution_count": 13,
   "metadata": {},
   "outputs": [
    {
     "data": {
      "text/plain": [
       "[Document(metadata={'source': 'data/founder.txt'}, page_content='Creating Chef Amico’s Restaurant'),\n",
       " Document(metadata={'source': 'data/founder.txt'}, page_content='the restaurant quickly gained fame for its authentic flavors and Amico’s innovative twists on traditional recipes.'),\n",
       " Document(metadata={'source': 'data/founder.txt'}, page_content='young chefs, shares his knowledge at culinary workshops, and supports local farmers and producers.'),\n",
       " Document(metadata={'source': 'data/restaurant.txt'}, page_content='One evening, as the sun cast a golden glow over the city, a renowned food critic, Elena Rossi, stepped into Chef Amico.'),\n",
       " Document(metadata={'source': 'data/restaurant.txt'}, page_content='the food. It was about the stories, the traditions, and the heart poured into every dish.'),\n",
       " Document(metadata={'source': 'data/founder.txt'}, page_content='and traditions that would later influence his unique culinary style.'),\n",
       " Document(metadata={'source': 'data/founder.txt'}, page_content='craft. His spirit of generosity and passion for food extends beyond the restaurant’s walls. He mentors young chefs,'),\n",
       " Document(metadata={'source': 'data/founder.txt'}, page_content='Philosophy of Hospitality'),\n",
       " Document(metadata={'source': 'data/founder.txt'}, page_content='and relish life’s simple pleasures. His restaurant was a haven where strangers became friends over plates of arancini')]"
      ]
     },
     "execution_count": 13,
     "metadata": {},
     "output_type": "execute_result"
    }
   ],
   "source": [
    "docs = [retriever.invoke(q) for q in list_of_questions]\n",
    "flatten_and_unique_documents(documents=docs)"
   ]
  }
 ],
 "metadata": {
  "kernelspec": {
   "display_name": ".venv",
   "language": "python",
   "name": "python3"
  },
  "language_info": {
   "codemirror_mode": {
    "name": "ipython",
    "version": 3
   },
   "file_extension": ".py",
   "mimetype": "text/x-python",
   "name": "python",
   "nbconvert_exporter": "python",
   "pygments_lexer": "ipython3",
   "version": "3.11.9"
  }
 },
 "nbformat": 4,
 "nbformat_minor": 2
}
